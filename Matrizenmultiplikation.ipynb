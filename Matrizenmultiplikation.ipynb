{
 "metadata": {
  "language_info": {
   "codemirror_mode": {
    "name": "ipython",
    "version": 3
   },
   "file_extension": ".py",
   "mimetype": "text/x-python",
   "name": "python",
   "nbconvert_exporter": "python",
   "pygments_lexer": "ipython3",
   "version": 3
  },
  "orig_nbformat": 2
 },
 "nbformat": 4,
 "nbformat_minor": 2,
 "cells": [
  {
   "source": [
    "## Codebeispiele aus der Einleitung¶ \n",
    "Für Visualisierungen müssen GraphViz sowie die GraphViz Python Bindings installiert sein."
   ],
   "cell_type": "markdown",
   "metadata": {}
  },
  {
   "source": [
    "#### Codebeispiel 1, Lazy Evaluation"
   ],
   "cell_type": "markdown",
   "metadata": {}
  },
  {
   "cell_type": "code",
   "execution_count": null,
   "metadata": {},
   "outputs": [],
   "source": [
    "import dask.array as da\n",
    "A = da.ones((5,5))                   # Es wird ein Task erstellt\n",
    "B = da.random.randint(0, 10, (5,5))  # Es wird ein weiterer Task erstellt\n",
    "C = A*B                              # Ein dritter Task verknüpft beide vorherigen Tasks"
   ]
  },
  {
   "cell_type": "code",
   "execution_count": null,
   "metadata": {},
   "outputs": [],
   "source": [
    "# Rich Output\n",
    "C\n",
    "\n",
    "# Bis hierhin wurden weder A, B noch C berechnet."
   ]
  },
  {
   "cell_type": "code",
   "execution_count": null,
   "metadata": {},
   "outputs": [],
   "source": [
    "# compute triggert die Berechnung\n",
    "C.compute()\n"
   ]
  },
  {
   "cell_type": "code",
   "execution_count": null,
   "metadata": {},
   "outputs": [],
   "source": [
    "# Die Visualisierung kann so getriggert werden, wenn GraphViz installiert ist:\n",
    "# C.visualize()"
   ]
  },
  {
   "source": [
    "#### Codebeispiel 2, Parallelität\n"
   ],
   "cell_type": "markdown",
   "metadata": {}
  },
  {
   "cell_type": "code",
   "execution_count": null,
   "metadata": {},
   "outputs": [],
   "source": [
    "import dask.array as da\n",
    "A2 = da.ones((5,5), chunks=(5,1))\n",
    "B2 = da.random.randint(0, 10, (5,5), chunks=(5,1))\n",
    "C2 = A2*B2"
   ]
  },
  {
   "cell_type": "code",
   "execution_count": null,
   "metadata": {},
   "outputs": [],
   "source": [
    "# Rich Output\n",
    "C2"
   ]
  },
  {
   "cell_type": "code",
   "execution_count": null,
   "metadata": {},
   "outputs": [],
   "source": [
    "# Berechnungen starten\n",
    "C2.compute()"
   ]
  },
  {
   "source": [
    "#### Codebeispiel 3, map_blocks"
   ],
   "cell_type": "markdown",
   "metadata": {}
  },
  {
   "cell_type": "code",
   "execution_count": null,
   "metadata": {},
   "outputs": [],
   "source": [
    "import dask.array as da\n",
    "A = da.random.randint(0, 10, (10, 10), chunks=(5, 5))\n",
    "def func(A_block):\n",
    "    A_block *= -1\n",
    "    return A_block\n",
    "\n",
    "result = da.map_blocks(func, A)"
   ]
  },
  {
   "cell_type": "code",
   "execution_count": null,
   "metadata": {},
   "outputs": [],
   "source": [
    "result"
   ]
  },
  {
   "cell_type": "code",
   "execution_count": null,
   "metadata": {},
   "outputs": [],
   "source": [
    "result.compute()"
   ]
  }
 ]
}